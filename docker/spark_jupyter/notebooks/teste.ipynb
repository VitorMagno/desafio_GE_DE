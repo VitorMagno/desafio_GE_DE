{
 "cells": [
  {
   "cell_type": "code",
   "execution_count": 1,
   "id": "7ff385ad-5f00-4206-8504-302df7fa307e",
   "metadata": {},
   "outputs": [],
   "source": [
    "import os\n",
    "import boto3"
   ]
  },
  {
   "cell_type": "code",
   "execution_count": 2,
   "id": "179c17b4-2fee-4fc5-9177-1c2243fe6846",
   "metadata": {},
   "outputs": [],
   "source": [
    "import psycopg2"
   ]
  },
  {
   "cell_type": "code",
   "execution_count": 3,
   "id": "6a7f4f3f-d430-4235-9ea6-56a7cf892f94",
   "metadata": {},
   "outputs": [],
   "source": [
    "import requests\n",
    "from pyspark.sql import SparkSession\n",
    "from botocore.exceptions import ClientError"
   ]
  },
  {
   "cell_type": "code",
   "execution_count": 4,
   "id": "2d2d9f7f-c208-4a9f-be44-364f1f0834db",
   "metadata": {},
   "outputs": [],
   "source": [
    "# 1. Inicializa Spark\n",
    "spark = SparkSession.builder \\\n",
    "    .appName(\"teste\") \\\n",
    "    .getOrCreate()"
   ]
  },
  {
   "cell_type": "code",
   "execution_count": 5,
   "id": "3975197c-b63a-404f-b3fa-608762479653",
   "metadata": {},
   "outputs": [],
   "source": [
    "# 2. Conexão com MinIO\n",
    "minio_client = boto3.client(\n",
    "    's3',\n",
    "    endpoint_url='http://datalake:9000',\n",
    "    aws_access_key_id='admin',\n",
    "    aws_secret_access_key='admin123'\n",
    ")\n",
    "\n",
    "bucket_name = 'meu-bucket-teste'"
   ]
  },
  {
   "cell_type": "code",
   "execution_count": 6,
   "id": "ade8bd90-fb1c-433e-99dc-e1109768089f",
   "metadata": {},
   "outputs": [
    {
     "name": "stdout",
     "output_type": "stream",
     "text": [
      "Bucket 'meu-bucket-teste' já existe.\n"
     ]
    }
   ],
   "source": [
    "# 3. Criação de bucket no MinIO\n",
    "try:\n",
    "    minio_client.create_bucket(Bucket=bucket_name)\n",
    "    print(f\"Bucket '{bucket_name}' criado com sucesso.\")\n",
    "except ClientError as e:\n",
    "    if e.response['Error']['Code'] == 'BucketAlreadyOwnedByYou':\n",
    "        print(f\"Bucket '{bucket_name}' já existe.\")\n",
    "    else:\n",
    "        raise"
   ]
  },
  {
   "cell_type": "code",
   "execution_count": 7,
   "id": "49a9a0e3-1b8b-4884-8cd2-9607bef13e40",
   "metadata": {},
   "outputs": [
    {
     "name": "stdout",
     "output_type": "stream",
     "text": [
      "Arquivo 'exemplo.txt' enviado ao MinIO.\n"
     ]
    }
   ],
   "source": [
    "# 4. Upload de arquivos no MinIO\n",
    "with open('/tmp/exemplo.txt', 'w') as f:\n",
    "    f.write('Arquivo de teste para MinIO.')\n",
    "\n",
    "minio_client.upload_file('/tmp/exemplo.txt', bucket_name, 'exemplo.txt')\n",
    "print(\"Arquivo 'exemplo.txt' enviado ao MinIO.\")"
   ]
  },
  {
   "cell_type": "code",
   "execution_count": null,
   "id": "ee0f74ef-47a4-4f83-b1ed-6da92800300d",
   "metadata": {},
   "outputs": [],
   "source": [
    "# 5. Leitura de dados via Spark de um PostgreSQL\n",
    "jdbc_url = \"jdbc:postgresql://postgres:5432/meu_banco\"\n",
    "properties = {\n",
    "    \"user\": \"meu_usuario\",\n",
    "    \"password\": \"minha_senha\",\n",
    "    \"driver\": \"org.postgresql.Driver\"\n",
    "}\n",
    "\n",
    "df = spark.read.jdbc(url=jdbc_url, table=\"minha_tabela\", properties=properties)\n",
    "df.show()"
   ]
  },
  {
   "cell_type": "code",
   "execution_count": null,
   "id": "d31d9313-ed5a-4598-a384-d568704c9d6d",
   "metadata": {},
   "outputs": [],
   "source": [
    "# 6. Conexão com Airflow via REST API\n",
    "AIRFLOW_API = 'http://airflow-apiserver:8080/api/v1'\n",
    "DAG_ID = 'exemplo_dag'\n",
    "\n",
    "def trigger_dag(dag_id):\n",
    "    response = requests.post(\n",
    "        f\"{AIRFLOW_API}/dags/{dag_id}/dagRuns\",\n",
    "        auth=('airflow', 'airflow'),  # usuário e senha padrão\n",
    "        json={\"conf\": {}}\n",
    "    )\n",
    "    if response.status_code == 200:\n",
    "        print(f\"DAG '{dag_id}' disparada com sucesso.\")\n",
    "    else:\n",
    "        print(f\"Falha ao disparar DAG: {response.status_code}, {response.text}\")\n",
    "\n",
    "trigger_dag(DAG_ID)"
   ]
  },
  {
   "cell_type": "code",
   "execution_count": 8,
   "id": "362a17cb-4666-4ba7-ac1c-9e6e86bc9cce",
   "metadata": {},
   "outputs": [],
   "source": [
    "from airflow_client.client.api import dag_run_api\n",
    "from airflow_client.client import Configuration, ApiClient"
   ]
  },
  {
   "cell_type": "code",
   "execution_count": 9,
   "id": "a23384bf-e484-4512-b964-aea1e4233a6e",
   "metadata": {},
   "outputs": [
    {
     "ename": "AttributeError",
     "evalue": "module 'airflow_client.client.api.dag_run_api' has no attribute 'DAGRunApi'",
     "output_type": "error",
     "traceback": [
      "\u001b[0;31m---------------------------------------------------------------------------\u001b[0m",
      "\u001b[0;31mAttributeError\u001b[0m                            Traceback (most recent call last)",
      "Cell \u001b[0;32mIn[9], line 8\u001b[0m\n\u001b[1;32m      1\u001b[0m config \u001b[38;5;241m=\u001b[39m Configuration(\n\u001b[1;32m      2\u001b[0m     host\u001b[38;5;241m=\u001b[39m\u001b[38;5;124m\"\u001b[39m\u001b[38;5;124mhttp://airflow-apiserver:8080/api/v1\u001b[39m\u001b[38;5;124m\"\u001b[39m,\n\u001b[1;32m      3\u001b[0m     username\u001b[38;5;241m=\u001b[39m\u001b[38;5;124m\"\u001b[39m\u001b[38;5;124mairflow\u001b[39m\u001b[38;5;124m\"\u001b[39m,\n\u001b[1;32m      4\u001b[0m     password\u001b[38;5;241m=\u001b[39m\u001b[38;5;124m\"\u001b[39m\u001b[38;5;124mairflow\u001b[39m\u001b[38;5;124m\"\u001b[39m\n\u001b[1;32m      5\u001b[0m )\n\u001b[1;32m      7\u001b[0m \u001b[38;5;28;01mwith\u001b[39;00m ApiClient(config) \u001b[38;5;28;01mas\u001b[39;00m api_client:\n\u001b[0;32m----> 8\u001b[0m     api_instance \u001b[38;5;241m=\u001b[39m \u001b[43mdag_run_api\u001b[49m\u001b[38;5;241;43m.\u001b[39;49m\u001b[43mDAGRunApi\u001b[49m(api_client)\n\u001b[1;32m      9\u001b[0m     dag_id \u001b[38;5;241m=\u001b[39m \u001b[38;5;124m\"\u001b[39m\u001b[38;5;124mmeu_dag\u001b[39m\u001b[38;5;124m\"\u001b[39m\n\u001b[1;32m     11\u001b[0m     \u001b[38;5;66;03m# Dispara uma execução da DAG\u001b[39;00m\n",
      "\u001b[0;31mAttributeError\u001b[0m: module 'airflow_client.client.api.dag_run_api' has no attribute 'DAGRunApi'"
     ]
    }
   ],
   "source": [
    "config = Configuration(\n",
    "    host=\"http://airflow-apiserver:8080/api/v1\",\n",
    "    username=\"airflow\",\n",
    "    password=\"airflow\"\n",
    ")\n",
    "airflow_client.client.api_client()\n",
    "with ApiClient(config) as api_client:\n",
    "    api_instance = dag_run_api.\n",
    "    dag_id = \"meu_dag\"\n",
    "\n",
    "    # Dispara uma execução da DAG\n",
    "    response = api_instance.post_dag_run(dag_id)\n",
    "    print(f\"DAG triggered: {response.dag_run_id}\")"
   ]
  },
  {
   "cell_type": "code",
   "execution_count": null,
   "id": "e5be3299-c014-44df-bdf1-a340d2abc94e",
   "metadata": {},
   "outputs": [],
   "source": []
  }
 ],
 "metadata": {
  "kernelspec": {
   "display_name": "Python 3 (ipykernel)",
   "language": "python",
   "name": "python3"
  },
  "language_info": {
   "codemirror_mode": {
    "name": "ipython",
    "version": 3
   },
   "file_extension": ".py",
   "mimetype": "text/x-python",
   "name": "python",
   "nbconvert_exporter": "python",
   "pygments_lexer": "ipython3",
   "version": "3.11.6"
  }
 },
 "nbformat": 4,
 "nbformat_minor": 5
}
